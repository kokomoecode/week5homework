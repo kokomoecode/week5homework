{
 "cells": [
  {
   "cell_type": "code",
   "execution_count": 1,
   "id": "3307b886",
   "metadata": {},
   "outputs": [
    {
     "name": "stderr",
     "output_type": "stream",
     "text": [
      "Setting default log level to \"WARN\".\n",
      "To adjust logging level use sc.setLogLevel(newLevel). For SparkR, use setLogLevel(newLevel).\n"
     ]
    },
    {
     "name": "stdout",
     "output_type": "stream",
     "text": [
      "23/03/01 19:49:36 WARN NativeCodeLoader: Unable to load native-hadoop library for your platform... using builtin-java classes where applicable\n",
      "23/03/01 19:49:37 WARN Utils: Service 'SparkUI' could not bind on port 4040. Attempting port 4041.\n"
     ]
    }
   ],
   "source": [
    "import pyspark\n",
    "from pyspark.sql import SparkSession\n",
    "\n",
    "spark = SparkSession.builder \\\n",
    "    .master(\"local[*]\") \\\n",
    "    .appName('test') \\\n",
    "    .getOrCreate()"
   ]
  },
  {
   "cell_type": "code",
   "execution_count": 2,
   "id": "1ee1eb1d",
   "metadata": {},
   "outputs": [
    {
     "name": "stderr",
     "output_type": "stream",
     "text": [
      "                                                                                \r"
     ]
    }
   ],
   "source": [
    "df_green = spark.read.parquet('data/pq/green/*')"
   ]
  },
  {
   "cell_type": "code",
   "execution_count": 3,
   "id": "2e5ea2f8",
   "metadata": {},
   "outputs": [],
   "source": [
    "df_yellow = spark.read.parquet('data/pq/yellow/*')"
   ]
  },
  {
   "cell_type": "code",
   "execution_count": null,
   "id": "0ca5ee99",
   "metadata": {},
   "outputs": [],
   "source": [
    "df_green = df_green.printSchema()"
   ]
  },
  {
   "cell_type": "code",
   "execution_count": null,
   "id": "798b17eb",
   "metadata": {},
   "outputs": [],
   "source": [
    "df_yellow = df_yellow.printSchema()"
   ]
  },
  {
   "cell_type": "code",
   "execution_count": 4,
   "id": "649bb4da",
   "metadata": {},
   "outputs": [],
   "source": [
    "df_green = df_green \\\n",
    "    .withColumnRenamed('lpep_pickup_datetime', 'pickup_datetime') \\\n",
    "    .withColumnRenamed('lpep_dropoff_datetime', 'dropoff_datetime')"
   ]
  },
  {
   "cell_type": "code",
   "execution_count": 5,
   "id": "88822efd",
   "metadata": {},
   "outputs": [],
   "source": [
    "df_yellow = df_yellow \\\n",
    "    .withColumnRenamed('tpep_pickup_datetime', 'pickup_datetime') \\\n",
    "    .withColumnRenamed('tpep_dropoff_datetime', 'dropoff_datetime')"
   ]
  },
  {
   "cell_type": "code",
   "execution_count": 8,
   "id": "610167a2",
   "metadata": {},
   "outputs": [],
   "source": [
    "common_colums = []\n",
    "\n",
    "yellow_columns = set(df_yellow.columns)\n",
    "\n",
    "for col in df_green.columns:\n",
    "    if col in yellow_columns:\n",
    "        common_colums.append(col)"
   ]
  },
  {
   "cell_type": "code",
   "execution_count": 12,
   "id": "4d0c24b9",
   "metadata": {},
   "outputs": [
    {
     "data": {
      "text/plain": [
       "['VendorID',\n",
       " 'pickup_datetime',\n",
       " 'dropoff_datetime',\n",
       " 'store_and_fwd_flag',\n",
       " 'RatecodeID',\n",
       " 'PULocationID',\n",
       " 'DOLocationID',\n",
       " 'passenger_count',\n",
       " 'trip_distance',\n",
       " 'fare_amount',\n",
       " 'extra',\n",
       " 'mta_tax',\n",
       " 'tip_amount',\n",
       " 'tolls_amount',\n",
       " 'improvement_surcharge',\n",
       " 'total_amount',\n",
       " 'payment_type',\n",
       " 'congestion_surcharge']"
      ]
     },
     "execution_count": 12,
     "metadata": {},
     "output_type": "execute_result"
    }
   ],
   "source": [
    "common_colums"
   ]
  },
  {
   "cell_type": "code",
   "execution_count": 14,
   "id": "839d773f",
   "metadata": {},
   "outputs": [],
   "source": [
    "from pyspark.sql import functions as F"
   ]
  },
  {
   "cell_type": "code",
   "execution_count": 15,
   "id": "2498810a",
   "metadata": {},
   "outputs": [],
   "source": [
    "df_green_sel = df_green \\\n",
    "    .select(common_colums) \\\n",
    "    .withColumn('service_type', F.lit('green'))"
   ]
  },
  {
   "cell_type": "code",
   "execution_count": 16,
   "id": "19032efc",
   "metadata": {},
   "outputs": [],
   "source": [
    "df_yellow_sel = df_yellow \\\n",
    "    .select(common_colums) \\\n",
    "    .withColumn('service_type', F.lit('yellow'))"
   ]
  },
  {
   "cell_type": "code",
   "execution_count": 17,
   "id": "f5b0f3d1",
   "metadata": {},
   "outputs": [],
   "source": [
    "df_trips_data = df_green_sel.unionAll(df_yellow_sel)"
   ]
  },
  {
   "cell_type": "code",
   "execution_count": 18,
   "id": "1bed8b33",
   "metadata": {},
   "outputs": [
    {
     "name": "stderr",
     "output_type": "stream",
     "text": [
      "[Stage 3:======================================================>  (20 + 1) / 21]\r"
     ]
    },
    {
     "name": "stdout",
     "output_type": "stream",
     "text": [
      "+------------+--------+\n",
      "|service_type|   count|\n",
      "+------------+--------+\n",
      "|       green| 2802931|\n",
      "|      yellow|55553400|\n",
      "+------------+--------+\n",
      "\n"
     ]
    },
    {
     "name": "stderr",
     "output_type": "stream",
     "text": [
      "\r",
      "                                                                                \r"
     ]
    }
   ],
   "source": [
    "df_trips_data.groupBy('service_type').count().show()"
   ]
  },
  {
   "cell_type": "code",
   "execution_count": null,
   "id": "28cc8fa3",
   "metadata": {},
   "outputs": [],
   "source": [
    "df_trips_data.columns"
   ]
  },
  {
   "cell_type": "code",
   "execution_count": 19,
   "id": "36e90cbc",
   "metadata": {},
   "outputs": [
    {
     "name": "stderr",
     "output_type": "stream",
     "text": [
      "/Users/moethantkoko/opt/anaconda3/lib/python3.9/site-packages/pyspark/sql/dataframe.py:229: FutureWarning: Deprecated in 2.0, use createOrReplaceTempView instead.\n",
      "  warnings.warn(\"Deprecated in 2.0, use createOrReplaceTempView instead.\", FutureWarning)\n"
     ]
    }
   ],
   "source": [
    "df_trips_data.registerTempTable('trips_data')"
   ]
  },
  {
   "cell_type": "code",
   "execution_count": 20,
   "id": "d0e01bf1",
   "metadata": {},
   "outputs": [
    {
     "name": "stderr",
     "output_type": "stream",
     "text": [
      "[Stage 6:===========================================>             (16 + 5) / 21]\r"
     ]
    },
    {
     "name": "stdout",
     "output_type": "stream",
     "text": [
      "+------------+--------+\n",
      "|service_type|count(1)|\n",
      "+------------+--------+\n",
      "|       green| 2802931|\n",
      "|      yellow|55553400|\n",
      "+------------+--------+\n",
      "\n"
     ]
    },
    {
     "name": "stderr",
     "output_type": "stream",
     "text": [
      "\r",
      "[Stage 6:======================================================>  (20 + 1) / 21]\r",
      "\r",
      "                                                                                \r"
     ]
    }
   ],
   "source": [
    "spark.sql(\"\"\"\n",
    "SELECT\n",
    "    service_type,\n",
    "    count(1)\n",
    "FROM\n",
    "    trips_data\n",
    "GROUP BY \n",
    "    service_type\n",
    "\"\"\").show()"
   ]
  },
  {
   "cell_type": "code",
   "execution_count": 21,
   "id": "b2ee7038",
   "metadata": {},
   "outputs": [],
   "source": [
    "df_result = spark.sql(\"\"\"\n",
    "SELECT \n",
    "    -- Reveneue grouping \n",
    "    PULocationID AS revenue_zone,\n",
    "    date_trunc('month', pickup_datetime) AS revenue_month, \n",
    "    service_type, \n",
    "\n",
    "    -- Revenue calculation \n",
    "    SUM(fare_amount) AS revenue_monthly_fare,\n",
    "    SUM(extra) AS revenue_monthly_extra,\n",
    "    SUM(mta_tax) AS revenue_monthly_mta_tax,\n",
    "    SUM(tip_amount) AS revenue_monthly_tip_amount,\n",
    "    SUM(tolls_amount) AS revenue_monthly_tolls_amount,\n",
    "    SUM(improvement_surcharge) AS revenue_monthly_improvement_surcharge,\n",
    "    SUM(total_amount) AS revenue_monthly_total_amount,\n",
    "    SUM(congestion_surcharge) AS revenue_monthly_congestion_surcharge,\n",
    "\n",
    "    -- Additional calculations\n",
    "    AVG(passenger_count) AS avg_montly_passenger_count,\n",
    "    AVG(trip_distance) AS avg_montly_trip_distance\n",
    "FROM\n",
    "    trips_data\n",
    "GROUP BY\n",
    "    1, 2, 3\n",
    "\"\"\")"
   ]
  },
  {
   "cell_type": "code",
   "execution_count": 22,
   "id": "06031ae6",
   "metadata": {},
   "outputs": [
    {
     "name": "stderr",
     "output_type": "stream",
     "text": [
      "[Stage 9:======================================================>  (20 + 1) / 21]\r"
     ]
    },
    {
     "name": "stdout",
     "output_type": "stream",
     "text": [
      "+------------+-------------------+------------+--------------------+---------------------+-----------------------+--------------------------+----------------------------+-------------------------------------+----------------------------+------------------------------------+--------------------------+------------------------+\n",
      "|revenue_zone|      revenue_month|service_type|revenue_monthly_fare|revenue_monthly_extra|revenue_monthly_mta_tax|revenue_monthly_tip_amount|revenue_monthly_tolls_amount|revenue_monthly_improvement_surcharge|revenue_monthly_total_amount|revenue_monthly_congestion_surcharge|avg_montly_passenger_count|avg_montly_trip_distance|\n",
      "+------------+-------------------+------------+--------------------+---------------------+-----------------------+--------------------------+----------------------------+-------------------------------------+----------------------------+------------------------------------+--------------------------+------------------------+\n",
      "|         169|2019-12-01 00:00:00|       green|              294.39|                 14.5|                    5.5|         8.879999999999999|                       24.48|                    4.199999999999999|          351.95000000000005|                                 0.0|                      1.75|       5.572857142857144|\n",
      "|          94|2019-12-01 00:00:00|       green|               82.59|                 3.75|                    1.0|                       0.0|                         0.0|                                  1.2|           88.53999999999999|                                 0.0|                       1.0|                    4.36|\n",
      "|           3|2020-01-01 00:00:00|       green|  12939.230000000029|                886.0|                   88.0|                     44.18|           702.2400000000004|                    134.9999999999994|           14808.99999999998|                                 5.5|        1.0975609756097562|       6.397607843137256|\n",
      "|          10|2019-12-01 00:00:00|       green|               94.63|                 3.25|                    0.5|                       0.0|                         0.0|                   0.8999999999999999|                       99.28|                                 0.0|                       1.0|      10.133333333333333|\n",
      "|           9|2020-01-01 00:00:00|       green|  10596.830000000018|               788.75|                   37.5|                    141.41|          235.57000000000008|                   117.89999999999924|           11924.60999999999|                                2.75|        1.0833333333333333|       5.425406698564596|\n",
      "|          23|2020-01-01 00:00:00|       green|   782.5800000000002|                16.75|                    2.0|                       0.0|          178.85000000000002|                   2.9999999999999996|                      983.18|                                 0.0|                       2.0|       28.03000000000001|\n",
      "|          71|2020-01-01 00:00:00|       green|   32430.86000000015|               2560.0|                  289.0|                     41.16|           536.9700000000005|                    373.8000000000084|          36241.539999999826|                                 0.0|        1.1945701357466063|       4.222405757368063|\n",
      "|         215|2020-01-01 00:00:00|       green|   32115.44000000013|               1960.0|                  149.0|        44.410000000000004|           831.7900000000004|                    313.2000000000061|           35415.79000000003|                                 0.0|        1.1823529411764706|       6.581166518254683|\n",
      "|         195|2020-01-01 00:00:00|       green|  11351.590000000017|                548.5|                  142.0|         806.2799999999999|           255.0700000000001|                    134.9999999999994|          13422.189999999986|                              129.25|        1.2124183006535947|       4.586278625954199|\n",
      "|          72|2019-12-01 00:00:00|       green|  306.15999999999997|                13.75|                    2.0|                       0.0|                         0.0|                                  2.4|                      324.31|                                null|                      null|       7.247499999999999|\n",
      "|           7|2019-12-01 00:00:00|       green|              2330.5|                99.25|                   91.0|        218.15999999999997|                        30.6|                    55.79999999999983|          2859.4600000000055|                                38.5|        1.5376344086021505|       3.266505376344086|\n",
      "|         106|2019-12-01 00:00:00|       green|               236.0|                  6.5|                    6.5|                      46.0|                         0.0|                    4.199999999999999|          303.90000000000003|                                2.75|        1.2142857142857142|       3.187857142857143|\n",
      "|          46|2020-01-01 00:00:00|       green|  2898.2999999999984|                131.5|                   17.0|                     12.12|          153.00000000000003|                    21.30000000000003|          3233.2200000000007|                                 0.0|                      1.28|       11.81644736842105|\n",
      "|          88|2020-01-01 00:00:00|       green|             4146.88|               223.75|                   16.0|                       0.0|          273.09000000000003|                    30.30000000000005|           4690.020000000003|                                 0.0|                       1.0|      11.439108910891093|\n",
      "|          38|2019-12-01 00:00:00|       green|               95.44|                 2.75|                    0.0|                       0.0|                         0.0|                                  0.6|           98.78999999999999|                                null|                      null|                   20.27|\n",
      "|         136|2020-01-01 00:00:00|       green|  26684.039999999964|              1671.75|                  214.0|                      93.9|           680.0100000000003|                    272.4000000000046|          29634.549999999886|                                16.5|        1.1666666666666667|       5.923836538461531|\n",
      "|          43|2019-12-01 00:00:00|       green|               119.0|                  6.5|                    6.5|                     24.83|                         0.0|                    3.899999999999999|          171.73000000000005|                                11.0|        1.0769230769230769|      1.6653846153846155|\n",
      "|          78|2020-01-01 00:00:00|       green|   22885.30000000004|              1457.75|                  226.0|         89.14999999999999|          1094.7599999999993|                    275.7000000000047|          26084.609999999942|                               24.75|        1.2219101123595506|       4.901932938856017|\n",
      "|         153|2020-01-01 00:00:00|       green|             4167.48|               216.75|                   62.0|         52.21000000000001|          112.96000000000002|                    53.69999999999985|                     4681.05|                                11.0|        1.3428571428571427|       4.797772277227721|\n",
      "|          67|2020-01-01 00:00:00|       green|   9212.319999999994|                490.5|                   68.0|        37.800000000000004|           255.5000000000001|                    83.39999999999957|          10165.170000000004|                                11.0|        1.2153846153846153|       5.898463855421685|\n",
      "+------------+-------------------+------------+--------------------+---------------------+-----------------------+--------------------------+----------------------------+-------------------------------------+----------------------------+------------------------------------+--------------------------+------------------------+\n",
      "only showing top 20 rows\n",
      "\n"
     ]
    },
    {
     "name": "stderr",
     "output_type": "stream",
     "text": [
      "\r",
      "                                                                                \r"
     ]
    }
   ],
   "source": [
    "df_result.show()"
   ]
  },
  {
   "cell_type": "code",
   "execution_count": 23,
   "id": "f67eeb92",
   "metadata": {},
   "outputs": [
    {
     "name": "stderr",
     "output_type": "stream",
     "text": [
      "                                                                                \r"
     ]
    }
   ],
   "source": [
    "df_result.coalesce(1).write.parquet('data/report/revenue/', mode='overwrite')"
   ]
  },
  {
   "cell_type": "code",
   "execution_count": null,
   "id": "f56a885d",
   "metadata": {},
   "outputs": [],
   "source": []
  }
 ],
 "metadata": {
  "kernelspec": {
   "display_name": "Python 3 (ipykernel)",
   "language": "python",
   "name": "python3"
  },
  "language_info": {
   "codemirror_mode": {
    "name": "ipython",
    "version": 3
   },
   "file_extension": ".py",
   "mimetype": "text/x-python",
   "name": "python",
   "nbconvert_exporter": "python",
   "pygments_lexer": "ipython3",
   "version": "3.9.13"
  }
 },
 "nbformat": 4,
 "nbformat_minor": 5
}
